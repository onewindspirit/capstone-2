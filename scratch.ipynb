{
 "cells": [
  {
   "cell_type": "code",
   "execution_count": 1,
   "metadata": {},
   "outputs": [],
   "source": [
    "import numpy as np\n",
    "import pandas as pd\n",
    "import matplotlib.pyplot as plt\n",
    "from skimage import io, color, filters\n",
    "from skimage.transform import resize, rotate\n",
    "import operator\n",
    "\n",
    "from src.pipeline import ImagePipeline\n"
   ]
  },
  {
   "cell_type": "code",
   "execution_count": 16,
   "metadata": {},
   "outputs": [],
   "source": [
    "ip = ImagePipeline('data/textures')\n",
    "ip.read(sub_dirs=('all','na'))"
   ]
  },
  {
   "cell_type": "code",
   "execution_count": 17,
   "metadata": {
    "scrolled": true
   },
   "outputs": [
    {
     "data": {
      "text/plain": [
       "(1, 13510)"
      ]
     },
     "execution_count": 17,
     "metadata": {},
     "output_type": "execute_result"
    }
   ],
   "source": [
    "np.asarray(ip.img_lst2).shape"
   ]
  },
  {
   "cell_type": "code",
   "execution_count": 18,
   "metadata": {},
   "outputs": [],
   "source": [
    "ip.filter_img_lst(only_squares=False)"
   ]
  },
  {
   "cell_type": "code",
   "execution_count": 19,
   "metadata": {
    "scrolled": true
   },
   "outputs": [
    {
     "data": {
      "text/plain": [
       "(1, 7105)"
      ]
     },
     "execution_count": 19,
     "metadata": {},
     "output_type": "execute_result"
    }
   ],
   "source": [
    "np.asarray(ip.img_lst2).shape"
   ]
  },
  {
   "cell_type": "code",
   "execution_count": 73,
   "metadata": {
    "scrolled": true
   },
   "outputs": [],
   "source": [
    "def split_holdout(ip,sub_dir='all',n_holdouts=1000):\n",
    "    #dir = ip._make_new_dir('holdouts')\n",
    "    for _ in range(0,n_holdouts):\n",
    "        #return ip.img_lst2[ip.label_map[sub_dir]][np.random.randint(0,len(ip.label_map[sub_dir]))]\n",
    "        \n",
    "    "
   ]
  },
  {
   "cell_type": "code",
   "execution_count": null,
   "metadata": {},
   "outputs": [],
   "source": []
  },
  {
   "cell_type": "code",
   "execution_count": 74,
   "metadata": {},
   "outputs": [
    {
     "data": {
      "text/plain": [
       "1"
      ]
     },
     "execution_count": 74,
     "metadata": {},
     "output_type": "execute_result"
    }
   ],
   "source": [
    "split_holdout(ip)"
   ]
  },
  {
   "cell_type": "code",
   "execution_count": 3,
   "metadata": {},
   "outputs": [],
   "source": [
    "def filter_data(data,min_res=32,only_squares=True):\n",
    "    '''\n",
    "    Takes a set of image labels and returns a resized version based on minimum resolution and whether or not the images are square.\n",
    "    \n",
    "    Inputs:\n",
    "        sub_dir: subdirectory of image labels to look at\n",
    "        min_res: minimum hight or width for the data. Will remove all images with a smaller resolution and resize anything bigger to match.\n",
    "        only_squares: if True, only includes images that have a square resolution in the final set\n",
    "    Outputs:\n",
    "        imgs: filtered and resized images\n",
    "    '''\n",
    "    imgs = []\n",
    "    if only_squares == True:\n",
    "        for img in data:\n",
    "            if img.shape[0] == img.shape[1]:\n",
    "                if img.shape[0]>=min_res & img.shape[1]>=min_res:\n",
    "                    imgs.append(img)\n",
    "    else:\n",
    "        for img in data:\n",
    "            if img.shape[0]>=min_res & img.shape[1]>=min_res:\n",
    "                imgs.append(img)\n",
    "            \n",
    "    return imgs"
   ]
  },
  {
   "cell_type": "code",
   "execution_count": 4,
   "metadata": {},
   "outputs": [],
   "source": [
    "def list_shapes(data):\n",
    "    '''\n",
    "    Returns a dictionary of the amount of images that share shapes in a given dataset. \n",
    "    '''\n",
    "    shapes={}\n",
    "    for img in data:\n",
    "        key = f'{img.shape[0]} x {img.shape[1]}'\n",
    "        if key not in shapes:\n",
    "            shapes[key] = 0\n",
    "        shapes[key] += 1\n",
    "    return sorted(shapes.items(),key=operator.itemgetter(1),reverse=True)"
   ]
  },
  {
   "cell_type": "code",
   "execution_count": 5,
   "metadata": {
    "scrolled": true
   },
   "outputs": [
    {
     "data": {
      "text/plain": [
       "[('32 x 32', 6206),\n",
       " ('64 x 64', 2865),\n",
       " ('32 x 64', 909),\n",
       " ('16 x 16', 680),\n",
       " ('64 x 32', 640),\n",
       " ('128 x 128', 240),\n",
       " ('32 x 16', 144),\n",
       " ('64 x 128', 108),\n",
       " ('8 x 8', 95),\n",
       " ('8 x 16', 94),\n",
       " ('128 x 64', 92),\n",
       " ('16 x 32', 88),\n",
       " ('256 x 256', 67),\n",
       " ('64 x 16', 55),\n",
       " ('20 x 80', 54),\n",
       " ('24 x 24', 51),\n",
       " ('16 x 64', 50),\n",
       " ('256 x 128', 45),\n",
       " ('52 x 32', 40),\n",
       " ('14 x 16', 40),\n",
       " ('31 x 32', 35),\n",
       " ('48 x 32', 31),\n",
       " ('128 x 256', 29),\n",
       " ('32 x 8', 28),\n",
       " ('512 x 512', 28),\n",
       " ('32 x 34', 24),\n",
       " ('512 x 256', 22),\n",
       " ('8 x 32', 21),\n",
       " ('32 x 128', 20),\n",
       " ('40 x 40', 20),\n",
       " ('256 x 16', 19),\n",
       " ('128 x 32', 15),\n",
       " ('4 x 64', 13),\n",
       " ('30 x 32', 12),\n",
       " ('27 x 32', 11),\n",
       " ('34 x 34', 11),\n",
       " ('256 x 512', 11),\n",
       " ('44 x 44', 10),\n",
       " ('23 x 44', 10),\n",
       " ('512 x 128', 10),\n",
       " ('32 x 2', 10),\n",
       " ('60 x 24', 10),\n",
       " ('16 x 8', 10),\n",
       " ('32 x 4', 10),\n",
       " ('192 x 128', 9),\n",
       " ('1024 x 1024', 8),\n",
       " ('15 x 16', 8),\n",
       " ('16 x 128', 8),\n",
       " ('64 x 192', 8),\n",
       " ('28 x 32', 8),\n",
       " ('60 x 64', 8),\n",
       " ('8 x 64', 8),\n",
       " ('64 x 48', 8),\n",
       " ('18 x 36', 8),\n",
       " ('28 x 20', 7),\n",
       " ('2 x 64', 7),\n",
       " ('192 x 64', 7),\n",
       " ('32 x 40', 7),\n",
       " ('30 x 24', 7),\n",
       " ('192 x 192', 6),\n",
       " ('14 x 12', 6),\n",
       " ('30 x 68', 6),\n",
       " ('60 x 32', 6),\n",
       " ('28 x 16', 6),\n",
       " ('96 x 64', 6),\n",
       " ('64 x 8', 6),\n",
       " ('128 x 512', 5),\n",
       " ('512 x 64', 5),\n",
       " ('32 x 48', 5),\n",
       " ('24 x 48', 5),\n",
       " ('48 x 48', 5),\n",
       " ('64 x 40', 5),\n",
       " ('30 x 16', 5),\n",
       " ('66 x 66', 4),\n",
       " ('62 x 64', 4),\n",
       " ('23 x 12', 4),\n",
       " ('38 x 32', 4),\n",
       " ('27 x 28', 4),\n",
       " ('19 x 32', 4),\n",
       " ('25 x 32', 3),\n",
       " ('21 x 48', 3),\n",
       " ('96 x 96', 3),\n",
       " ('25 x 24', 3),\n",
       " ('5 x 64', 3),\n",
       " ('34 x 66', 3),\n",
       " ('29 x 32', 3),\n",
       " ('64 x 256', 3),\n",
       " ('54 x 64', 3),\n",
       " ('32 x 27', 3),\n",
       " ('120 x 32', 3),\n",
       " ('51 x 64', 3),\n",
       " ('32 x 56', 3),\n",
       " ('25 x 80', 3),\n",
       " ('52 x 64', 3),\n",
       " ('12 x 64', 3),\n",
       " ('1024 x 256', 3),\n",
       " ('128 x 192', 3),\n",
       " ('124 x 32', 3),\n",
       " ('1024 x 128', 3),\n",
       " ('29 x 24', 3),\n",
       " ('10 x 64', 3),\n",
       " ('25 x 20', 3),\n",
       " ('18 x 34', 3),\n",
       " ('31 x 64', 3),\n",
       " ('33 x 34', 3),\n",
       " ('32 x 24', 2),\n",
       " ('32 x 9', 2),\n",
       " ('24 x 16', 2),\n",
       " ('51 x 32', 2),\n",
       " ('128 x 1024', 2),\n",
       " ('256 x 32', 2),\n",
       " ('32 x 1', 2),\n",
       " ('60 x 128', 2),\n",
       " ('32 x 256', 2),\n",
       " ('26 x 32', 2),\n",
       " ('32 x 13', 2),\n",
       " ('480 x 640', 2),\n",
       " ('34 x 60', 2),\n",
       " ('128 x 384', 2),\n",
       " ('8 x 124', 2),\n",
       " ('74 x 48', 2),\n",
       " ('33 x 32', 2),\n",
       " ('4 x 32', 2),\n",
       " ('26 x 76', 2),\n",
       " ('32 x 14', 2),\n",
       " ('32 x 11', 2),\n",
       " ('160 x 320', 2),\n",
       " ('32 x 29', 2),\n",
       " ('12 x 24', 2),\n",
       " ('96 x 32', 2),\n",
       " ('121 x 16', 2),\n",
       " ('26 x 28', 2),\n",
       " ('36 x 32', 2),\n",
       " ('4 x 16', 2),\n",
       " ('64 x 96', 2),\n",
       " ('13 x 64', 2),\n",
       " ('22 x 64', 2),\n",
       " ('64 x 512', 2),\n",
       " ('256 x 1024', 2),\n",
       " ('17 x 64', 2),\n",
       " ('7 x 64', 2),\n",
       " ('12 x 160', 2),\n",
       " ('23 x 88', 2),\n",
       " ('4 x 140', 2),\n",
       " ('6 x 8', 2),\n",
       " ('4 x 66', 2),\n",
       " ('48 x 64', 2),\n",
       " ('32 x 12', 2),\n",
       " ('50 x 500', 1),\n",
       " ('128 x 148', 1),\n",
       " ('9 x 64', 1),\n",
       " ('240 x 320', 1),\n",
       " ('50 x 24', 1),\n",
       " ('43 x 32', 1),\n",
       " ('17 x 120', 1),\n",
       " ('19 x 14', 1),\n",
       " ('29 x 16', 1),\n",
       " ('4 x 4', 1),\n",
       " ('12 x 32', 1),\n",
       " ('34 x 68', 1),\n",
       " ('39 x 32', 1),\n",
       " ('29 x 48', 1),\n",
       " ('31 x 160', 1),\n",
       " ('408 x 968', 1),\n",
       " ('13 x 18', 1),\n",
       " ('80 x 152', 1),\n",
       " ('32 x 26', 1),\n",
       " ('15 x 12', 1),\n",
       " ('24 x 20', 1),\n",
       " ('185 x 256', 1),\n",
       " ('16 x 124', 1),\n",
       " ('51 x 24', 1),\n",
       " ('28 x 68', 1),\n",
       " ('42 x 44', 1),\n",
       " ('24 x 32', 1),\n",
       " ('12 x 152', 1),\n",
       " ('12 x 12', 1),\n",
       " ('80 x 80', 1),\n",
       " ('216 x 256', 1),\n",
       " ('20 x 152', 1),\n",
       " ('23 x 24', 1),\n",
       " ('42 x 798', 1),\n",
       " ('32 x 35', 1),\n",
       " ('23 x 64', 1),\n",
       " ('64 x 24', 1),\n",
       " ('144 x 256', 1),\n",
       " ('37 x 32', 1),\n",
       " ('48 x 16', 1),\n",
       " ('100 x 256', 1),\n",
       " ('21 x 20', 1),\n",
       " ('36 x 48', 1),\n",
       " ('96 x 128', 1),\n",
       " ('26 x 64', 1),\n",
       " ('28 x 12', 1),\n",
       " ('40 x 12', 1),\n",
       " ('28 x 48', 1),\n",
       " ('3 x 64', 1),\n",
       " ('51 x 20', 1),\n",
       " ('19 x 104', 1),\n",
       " ('53 x 64', 1),\n",
       " ('32 x 23', 1),\n",
       " ('5 x 24', 1),\n",
       " ('152 x 256', 1),\n",
       " ('46 x 38', 1),\n",
       " ('18 x 108', 1),\n",
       " ('6 x 52', 1),\n",
       " ('38 x 24', 1),\n",
       " ('26 x 8', 1),\n",
       " ('65 x 66', 1),\n",
       " ('42 x 43', 1),\n",
       " ('38 x 28', 1),\n",
       " ('66 x 18', 1),\n",
       " ('254 x 128', 1),\n",
       " ('43 x 44', 1),\n",
       " ('67 x 66', 1),\n",
       " ('1 x 4', 1),\n",
       " ('30 x 100', 1),\n",
       " ('6 x 64', 1),\n",
       " ('19 x 64', 1),\n",
       " ('32 x 53', 1),\n",
       " ('42 x 32', 1),\n",
       " ('32 x 21', 1),\n",
       " ('36 x 56', 1),\n",
       " ('23 x 20', 1),\n",
       " ('120 x 128', 1),\n",
       " ('63 x 48', 1),\n",
       " ('28 x 36', 1),\n",
       " ('256 x 64', 1),\n",
       " ('12 x 72', 1),\n",
       " ('18 x 24', 1),\n",
       " ('30 x 40', 1),\n",
       " ('40 x 32', 1),\n",
       " ('32 x 39', 1),\n",
       " ('10 x 20', 1),\n",
       " ('28 x 8', 1),\n",
       " ('16 x 4', 1),\n",
       " ('32 x 84', 1),\n",
       " ('32 x 45', 1),\n",
       " ('164 x 32', 1),\n",
       " ('36 x 16', 1),\n",
       " ('24 x 84', 1),\n",
       " ('64 x 56', 1),\n",
       " ('160 x 160', 1),\n",
       " ('10 x 12', 1),\n",
       " ('41 x 32', 1),\n",
       " ('10 x 52', 1),\n",
       " ('50 x 64', 1),\n",
       " ('50 x 20', 1),\n",
       " ('112 x 224', 1),\n",
       " ('192 x 160', 1),\n",
       " ('27 x 68', 1),\n",
       " ('61 x 8', 1),\n",
       " ('20 x 64', 1),\n",
       " ('50 x 28', 1),\n",
       " ('30 x 28', 1),\n",
       " ('27 x 90', 1),\n",
       " ('35 x 32', 1),\n",
       " ('196 x 128', 1),\n",
       " ('34 x 32', 1),\n",
       " ('54 x 56', 1),\n",
       " ('17 x 20', 1),\n",
       " ('32 x 3', 1),\n",
       " ('32 x 43', 1),\n",
       " ('21 x 14', 1),\n",
       " ('192 x 96', 1),\n",
       " ('27 x 60', 1),\n",
       " ('104 x 256', 1),\n",
       " ('21 x 96', 1),\n",
       " ('9 x 96', 1),\n",
       " ('8 x 128', 1),\n",
       " ('59 x 48', 1),\n",
       " ('40 x 250', 1),\n",
       " ('20 x 24', 1),\n",
       " ('68 x 34', 1),\n",
       " ('8 x 4', 1),\n",
       " ('2 x 4', 1),\n",
       " ('24 x 64', 1),\n",
       " ('15 x 52', 1),\n",
       " ('40 x 48', 1),\n",
       " ('32 x 28', 1),\n",
       " ('68 x 32', 1),\n",
       " ('18 x 44', 1),\n",
       " ('56 x 56', 1),\n",
       " ('100 x 70', 1),\n",
       " ('49 x 32', 1),\n",
       " ('30 x 48', 1),\n",
       " ('9 x 16', 1),\n",
       " ('96 x 628', 1),\n",
       " ('28 x 24', 1),\n",
       " ('72 x 144', 1),\n",
       " ('29 x 12', 1),\n",
       " ('66 x 34', 1),\n",
       " ('47 x 128', 1),\n",
       " ('21 x 18', 1)]"
      ]
     },
     "execution_count": 5,
     "metadata": {},
     "output_type": "execute_result"
    }
   ],
   "source": [
    "img_labels = ip.img_lst2[ip.label_map['all']]\n",
    "\n",
    "list_shapes(img_labels)"
   ]
  },
  {
   "cell_type": "code",
   "execution_count": 6,
   "metadata": {
    "scrolled": true
   },
   "outputs": [],
   "source": [
    "filtered_list = filter_data(img_labels,only_squares=True)"
   ]
  },
  {
   "cell_type": "code",
   "execution_count": 114,
   "metadata": {},
   "outputs": [],
   "source": [
    "import os\n",
    "from random import sample\n",
    "import shutil"
   ]
  },
  {
   "cell_type": "code",
   "execution_count": 115,
   "metadata": {},
   "outputs": [],
   "source": [
    "main_dir = os.listdir('data/textures/all')\n",
    "\n",
    "sample = sample(main_dir,int(len(main_dir)*.1))"
   ]
  },
  {
   "cell_type": "code",
   "execution_count": 116,
   "metadata": {},
   "outputs": [
    {
     "data": {
      "text/plain": [
       "17912"
      ]
     },
     "execution_count": 116,
     "metadata": {},
     "output_type": "execute_result"
    }
   ],
   "source": [
    "len(main_dir)"
   ]
  },
  {
   "cell_type": "code",
   "execution_count": 117,
   "metadata": {},
   "outputs": [],
   "source": [
    "for img in sample:\n",
    "    shutil.move(f'data/textures/all/{img}',f'data/textures/holdouts/{img}')"
   ]
  },
  {
   "cell_type": "code",
   "execution_count": 118,
   "metadata": {},
   "outputs": [
    {
     "data": {
      "text/plain": [
       "1791"
      ]
     },
     "execution_count": 118,
     "metadata": {},
     "output_type": "execute_result"
    }
   ],
   "source": [
    "len(sample)"
   ]
  },
  {
   "cell_type": "code",
   "execution_count": 97,
   "metadata": {},
   "outputs": [],
   "source": [
    "import tensorflow as tf"
   ]
  },
  {
   "cell_type": "code",
   "execution_count": 108,
   "metadata": {},
   "outputs": [
    {
     "data": {
      "text/plain": [
       "[PhysicalDevice(name='/physical_device:CPU:0', device_type='CPU')]"
      ]
     },
     "execution_count": 108,
     "metadata": {},
     "output_type": "execute_result"
    }
   ],
   "source": [
    "tf.config.list_physical_devices('CPU')"
   ]
  },
  {
   "cell_type": "code",
   "execution_count": 1,
   "metadata": {},
   "outputs": [],
   "source": [
    "import src.org_data as org_data"
   ]
  },
  {
   "cell_type": "code",
   "execution_count": 2,
   "metadata": {},
   "outputs": [],
   "source": [
    "def make_holdout_group(parent_dir,new_dir,size=0.1):\n",
    "#Checks if new path exists, if it doesn't, makes new path\n",
    "    if not os.path.exists(new_dir):\n",
    "            os.mkdir(new_dir)\n",
    "    else:\n",
    "        raise Exception('Directory already exist, please check...')\n",
    "\n",
    "#Creates a random sampling from parent set\n",
    "    sample = sample(os.listdir(parent_dir),int(len(main_dir)*size))\n",
    "\n",
    "#Moves sample set to new directory\n",
    "    for img in sample:\n",
    "        shutil.move(f'{parent_dir}/{img}',f'{new_dir}/{img}')"
   ]
  },
  {
   "cell_type": "code",
   "execution_count": 3,
   "metadata": {},
   "outputs": [],
   "source": [
    "org_data.make_holdout_group('data/textures/all','data/textures/train')"
   ]
  },
  {
   "cell_type": "code",
   "execution_count": null,
   "metadata": {},
   "outputs": [],
   "source": []
  }
 ],
 "metadata": {
  "kernelspec": {
   "display_name": "Python 3",
   "language": "python",
   "name": "python3"
  },
  "language_info": {
   "codemirror_mode": {
    "name": "ipython",
    "version": 3
   },
   "file_extension": ".py",
   "mimetype": "text/x-python",
   "name": "python",
   "nbconvert_exporter": "python",
   "pygments_lexer": "ipython3",
   "version": "3.8.5"
  }
 },
 "nbformat": 4,
 "nbformat_minor": 4
}
